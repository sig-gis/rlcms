{
 "cells": [
  {
   "cell_type": "code",
   "execution_count": 2,
   "metadata": {},
   "outputs": [],
   "source": [
    "from rlcms.composites import Composite\n",
    "import ee\n",
    "import geemap\n",
    "\n",
    "ee.Initialize(project='sig-ee-cloud')"
   ]
  },
  {
   "cell_type": "code",
   "execution_count": 3,
   "metadata": {},
   "outputs": [
    {
     "name": "stdout",
     "output_type": "stream",
     "text": [
      "{'dataset': 'Sentinel1', 'region': [[[24.280821946182392, -17.49195652431585], [24.31515256390456, -17.49195647837019], [24.31515256390456, -17.467721268955287], [24.280821946182392, -17.467721310351774], [24.280821946182392, -17.49195652431585]]], 'start_date': '2018-01-01', 'end_date': '2018-12-31', 'composite_mode': 'annual', 'reducer': 'mean', 'bands': ['VV_mean', 'VH_mean', 'angle_mean'], 'image': <ee.image.Image object at 0x00000240BF98E5E0>}\n",
      "S1 Composite bands:['VV_mean', 'VH_mean', 'angle_mean']\n",
      "S2 Composite bands: ['blue_mean', 'green_mean', 'red_mean', 'nir_mean', 'swir1_mean', 'swir2_mean', 'IBI_mean', 'SAVI_mean']\n"
     ]
    }
   ],
   "source": [
    "# some args we'll use in both composites\n",
    "start_date = '2018-01-01'\n",
    "end_date = '2018-12-31'\n",
    "reducer = 'mean' # min, max, ee.Reducer objects\n",
    "composite_mode = 'annual' # 'annual'\n",
    "\n",
    "sesheke = ee.FeatureCollection(\"projects/sig-ee-cloud/assets/rlcmsTests/sesheke\")\n",
    "\n",
    "s1composite = Composite(dataset='Sentinel1',\n",
    "                                  region=sesheke,\n",
    "                                  start_date=start_date,\n",
    "                                  end_date=end_date,\n",
    "                                 composite_mode=composite_mode,\n",
    "                                 reducer=reducer)\n",
    "s2composite = Composite(dataset='Sentinel2',\n",
    "                                 region=sesheke,\n",
    "                                 start_date=start_date,\n",
    "                                 end_date=end_date,\n",
    "                                 indices=['IBI','SAVI'],\n",
    "                                 composite_mode=composite_mode,\n",
    "                                 reducer=reducer)\n",
    "# look at the Composite object\n",
    "print(s1composite.__dict__)\n",
    "\n",
    "# retrieve band names\n",
    "print(f\"S1 Composite bands:{s1composite.bands}\")\n",
    "print(f\"S2 Composite bands: {s2composite.bands}\")\n",
    "\n",
    "# retrieve ee.Image from Composite object \n",
    "s1composite_image = s1composite.image\n",
    "s2composite_image = s2composite.image\n",
    "\n"
   ]
  },
  {
   "cell_type": "code",
   "execution_count": 4,
   "metadata": {},
   "outputs": [
    {
     "data": {
      "application/vnd.jupyter.widget-view+json": {
       "model_id": "4a7f9f8da5e54bc9a73d015c9301571c",
       "version_major": 2,
       "version_minor": 0
      },
      "text/plain": [
       "Map(center=[-17.479839363154916, 24.297987254521022], controls=(WidgetControl(options=['position', 'transparen…"
      ]
     },
     "execution_count": 4,
     "metadata": {},
     "output_type": "execute_result"
    }
   ],
   "source": [
    "Map = geemap.Map()\n",
    "\n",
    "Map.addLayer(s1composite_image.select(0,1),{'min':-20,'max':20},'S1 Composite VV,VH')\n",
    "Map.addLayer(s2composite_image.select(0,1,2),{'min':0,'max':2500},'S2 Composite first 3')\n",
    "Map.centerObject(sesheke,12)\n",
    "\n",
    "Map"
   ]
  },
  {
   "cell_type": "code",
   "execution_count": 5,
   "metadata": {},
   "outputs": [
    {
     "name": "stdout",
     "output_type": "stream",
     "text": [
      "['Sentinel1_VV_mean', 'Sentinel1_VH_mean', 'Sentinel1_angle_mean', 'Sentinel2_blue_mean', 'Sentinel2_green_mean', 'Sentinel2_red_mean', 'Sentinel2_nir_mean', 'Sentinel2_swir1_mean', 'Sentinel2_swir2_mean', 'Sentinel2_IBI_mean', 'Sentinel2_SAVI_mean']\n"
     ]
    }
   ],
   "source": [
    "# stack two Composites together\n",
    "all_composite = s1composite.stack(s2composite)\n",
    "print(all_composite.bandNames().getInfo())"
   ]
  },
  {
   "cell_type": "code",
   "execution_count": 6,
   "metadata": {},
   "outputs": [
    {
     "data": {
      "application/vnd.jupyter.widget-view+json": {
       "model_id": "9487a5e7ea574d0184a35a5f40947eb0",
       "version_major": 2,
       "version_minor": 0
      },
      "text/plain": [
       "Map(center=[-17.479839363154916, 24.297987254521022], controls=(WidgetControl(options=['position', 'transparen…"
      ]
     },
     "execution_count": 6,
     "metadata": {},
     "output_type": "execute_result"
    }
   ],
   "source": [
    "Map = geemap.Map()\n",
    "viz = {'bands':['Sentinel2_nir_mean','Sentinel2_green_mean','Sentinel2_blue_mean'],'min':0,'max':2500}\n",
    "Map.addLayer(all_composite,viz,'all_composite S2 false composite')\n",
    "Map.centerObject(all_composite,12)\n",
    "Map"
   ]
  },
  {
   "cell_type": "code",
   "execution_count": 8,
   "metadata": {},
   "outputs": [
    {
     "name": "stdout",
     "output_type": "stream",
     "text": [
      "Export Started (Asset): projects/sig-ee-cloud/assets/rlcmsTests/seshekeS1S2Composite\n"
     ]
    }
   ],
   "source": [
    "# Export composite to GEE Asset\n",
    "from rlcms.utils import export_img_to_asset\n",
    "asset_id = '<your/assetid/here>'\n",
    "export_img_to_asset(image=all_composite,\n",
    "                 description='exportAllCompositeSesheke',\n",
    "                 assetId=asset_id,\n",
    "                 region=all_composite.geometry(),\n",
    "                 scale=10)"
   ]
  }
 ],
 "metadata": {
  "kernelspec": {
   "display_name": "gee",
   "language": "python",
   "name": "python3"
  },
  "language_info": {
   "codemirror_mode": {
    "name": "ipython",
    "version": 3
   },
   "file_extension": ".py",
   "mimetype": "text/x-python",
   "name": "python",
   "nbconvert_exporter": "python",
   "pygments_lexer": "ipython3",
   "version": "3.8.13"
  },
  "orig_nbformat": 4
 },
 "nbformat": 4,
 "nbformat_minor": 2
}
