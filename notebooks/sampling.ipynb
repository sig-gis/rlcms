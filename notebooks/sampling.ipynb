{
 "cells": [
  {
   "cell_type": "code",
   "execution_count": 17,
   "metadata": {},
   "outputs": [
    {
     "name": "stdout",
     "output_type": "stream",
     "text": [
      "Dummy reference points count: 400\n"
     ]
    }
   ],
   "source": [
    "from rlcms.sampling import strat_sample_from_reference, strat_sample, split_train_test\n",
    "import ee\n",
    "ee.Initialize(project='sig-ee-cloud')\n",
    "img = ee.Image(\"projects/sig-ee-cloud/assets/rlcmsTests/composite_S2_sesheke_2021_22\")\n",
    "lc = ee.Image(\"projects/sig-ee-cloud/assets/rlcmsTests/LandCover_Sesheke\")\n",
    "\n",
    "pts = strat_sample(lc,'LANDCOVER',lc.geometry(),10,90210,50,None,None)\n",
    "polys = pts.map(lambda p: p.buffer(50).bounds())\n",
    "print(f\"Dummy reference points count: {pts.size().getInfo()}\")"
   ]
  },
  {
   "cell_type": "code",
   "execution_count": null,
   "metadata": {},
   "outputs": [],
   "source": [
    "# can extract image band information using reference points or polygons\n",
    "samples_from_pts = strat_sample_from_reference(img,pts,'LANDCOVER',10,None,123,[1,2,3],[10,10,10])\n",
    "samples_from_polys = strat_sample_from_reference(img,polys,'LANDCOVER',10,None,456,[1,2,3],[10,10,10])\n",
    "\n",
    "# get class breakdowns\n",
    "print(f\"Breakdown (samples from pts): {samples_from_pts.aggregate_histogram('LANDCOVER').getInfo()}\")\n",
    "print(f\"Breakdown (samples from polys): {samples_from_polys.aggregate_histogram('LANDCOVER').getInfo()}\")\n"
   ]
  },
  {
   "cell_type": "code",
   "execution_count": 16,
   "metadata": {},
   "outputs": [
    {
     "data": {
      "application/vnd.jupyter.widget-view+json": {
       "model_id": "b617246a107f40e68145691439932eaf",
       "version_major": 2,
       "version_minor": 0
      },
      "text/plain": [
       "Map(center=[-17.479823520857828, 24.29799114976096], controls=(WidgetControl(options=['position', 'transparent…"
      ]
     },
     "execution_count": 16,
     "metadata": {},
     "output_type": "execute_result"
    }
   ],
   "source": [
    "import geemap\n",
    "Map = geemap.Map()\n",
    "\n",
    "Map.addLayer(img.select(0,1,2),{'min':0,'max':1500},'Composite')\n",
    "Map.addLayer(pts,{},'pts')\n",
    "Map.addLayer(polys,{},'polys')\n",
    "Map.addLayer(samples_from_pts,{'color':'red'},'samples_from_reference(pts)')\n",
    "Map.addLayer(samples_from_polys,{'color':'blue'},'samples_from_reference(polys)')\n",
    "Map.centerObject(img,12)\n",
    "Map"
   ]
  },
  {
   "cell_type": "code",
   "execution_count": 4,
   "metadata": {},
   "outputs": [
    {
     "name": "stdout",
     "output_type": "stream",
     "text": [
      "train point count: 13\n",
      "test point count: 4\n",
      "['LANDCOVER', 'aspect', 'change_abs', 'change_norm', 'eastness', 'elevation', 'max_extent', 'northness', 'occurrence', 'seasonality', 'slope', 'swir1_amplitude', 'swir1_phase', 'system:index', 't0_EVI_median', 't0_IBI_median', 't0_blue_median', 't0_green_median', 't0_nir_median', 't0_red_median', 't0_swir1_median', 't0_swir2_median', 't1_EVI_median', 't1_IBI_median', 't1_blue_median', 't1_green_median', 't1_nir_median', 't1_red_median', 't1_swir1_median', 't1_swir2_median', 'transition']\n"
     ]
    }
   ],
   "source": [
    "# split into train/test\n",
    "train,test = split_train_test(samples_from_polys,101010)\n",
    "print(f\"train point count: {train.size().getInfo()}\")\n",
    "print(f\"test point count: {test.size().getInfo()}\")"
   ]
  },
  {
   "cell_type": "code",
   "execution_count": 8,
   "metadata": {},
   "outputs": [
    {
     "data": {
      "application/vnd.jupyter.widget-view+json": {
       "model_id": "a0ff01a3b55a4f5490ac8055ebf8ac80",
       "version_major": 2,
       "version_minor": 0
      },
      "text/plain": [
       "Map(center=[-17.479823520857828, 24.29799114976096], controls=(WidgetControl(options=['position', 'transparent…"
      ]
     },
     "execution_count": 8,
     "metadata": {},
     "output_type": "execute_result"
    }
   ],
   "source": [
    "Map = geemap.Map()\n",
    "\n",
    "Map.addLayer(img.select(0,1,2),{'min':0,'max':1500},'Composite')\n",
    "Map.addLayer(samples_from_polys,{'color':'grey'},'samples_from_reference(polys)')\n",
    "Map.addLayer(train,{'color':'red'},'training pts')\n",
    "Map.addLayer(test,{'color':'blue'},'testing pts')\n",
    "Map.centerObject(img,14)\n",
    "Map"
   ]
  },
  {
   "cell_type": "code",
   "execution_count": 19,
   "metadata": {},
   "outputs": [
    {
     "name": "stdout",
     "output_type": "stream",
     "text": [
      "Export started (Asset): projects/sig-ee-cloud/assets/rlcmsTests/demoTrainPtsSesheke\n",
      "Export started (Drive): rlcmsTests/demoTrainPtsSesheke\n"
     ]
    }
   ],
   "source": [
    "# export points to Asset or Drive\n",
    "from rlcms.utils import exportTableToAsset,exportTableToDrive\n",
    "\n",
    "exportTableToAsset(train,\n",
    "                    'exportTrainingPoints-Asset',\n",
    "                    'projects/sig-ee-cloud/assets/rlcmsTests/demoTrainPtsSesheke')\n",
    "exportTableToDrive(train,\n",
    "                    'exportTrainingPoints-Drive',\n",
    "                    'rlcmsTests',\n",
    "                    'demoTrainPtsSesheke',\n",
    "                    None)"
   ]
  }
 ],
 "metadata": {
  "kernelspec": {
   "display_name": "gee",
   "language": "python",
   "name": "python3"
  },
  "language_info": {
   "codemirror_mode": {
    "name": "ipython",
    "version": 3
   },
   "file_extension": ".py",
   "mimetype": "text/x-python",
   "name": "python",
   "nbconvert_exporter": "python",
   "pygments_lexer": "ipython3",
   "version": "3.8.13"
  },
  "orig_nbformat": 4
 },
 "nbformat": 4,
 "nbformat_minor": 2
}
