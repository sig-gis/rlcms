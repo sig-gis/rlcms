{
 "cells": [
  {
   "cell_type": "code",
   "execution_count": 1,
   "metadata": {},
   "outputs": [],
   "source": [
    "import rlcms.composites as composites\n",
    "import ee\n",
    "import geemap\n",
    "\n",
    "ee.Initialize()"
   ]
  },
  {
   "cell_type": "code",
   "execution_count": 2,
   "metadata": {},
   "outputs": [],
   "source": [
    "region = ee.Geometry.Polygon([[-120.70162384826843,36.658181801020476],\n",
    "                               [-120.65218537170593,36.658181801020476],\n",
    "                               [-120.65218537170593,36.68461734040718],\n",
    "                               [-120.70162384826843,36.68461734040718],\n",
    "                               [-120.70162384826843,36.658181801020476]])\n",
    "composite = composites.composite(dataset='Sentinel2',\n",
    "                                 aoi=region,\n",
    "                                 start_date='2020-01-01',\n",
    "                                 end_date='2022-12-31',\n",
    "                                 indices=['IBI','SAVI'],\n",
    "                                 composite_mode='seasonal',\n",
    "                                 season=[1,2,3,4,5],\n",
    "                                 reducer=ee.Reducer.percentile([10,50,99]), # 'mean', 'min'\n",
    "                                 addJRC=True,\n",
    "                                 addTopography=True,\n",
    "                                 addHarmonics=True,\n",
    "                                 harmonicsOptions={'nir':{'start':1,'end':180}})\n",
    "\n"
   ]
  },
  {
   "cell_type": "code",
   "execution_count": 3,
   "metadata": {},
   "outputs": [
    {
     "data": {
      "application/vnd.jupyter.widget-view+json": {
       "model_id": "7d6c1408dfe64affad104bb847f0384f",
       "version_major": 2,
       "version_minor": 0
      },
      "text/plain": [
       "Map(center=[36.671401368184334, -120.67690460998617], controls=(WidgetControl(options=['position', 'transparen…"
      ]
     },
     "execution_count": 3,
     "metadata": {},
     "output_type": "execute_result"
    }
   ],
   "source": [
    "Map = geemap.Map()\n",
    "vis_params = {'bands':['t0_red_p50','t0_blue_p50','t0_green_p50'],\n",
    "              'min':0,'max':1500,\n",
    "            #   'palette':['red','green','blue']\n",
    "              }\n",
    "Map.addLayer(region,{},'test rect')\n",
    "Map.addLayer(composite,vis_params,'composite')\n",
    "Map.centerObject(region,12)\n",
    "\n",
    "Map"
   ]
  }
 ],
 "metadata": {
  "kernelspec": {
   "display_name": "gee",
   "language": "python",
   "name": "python3"
  },
  "language_info": {
   "codemirror_mode": {
    "name": "ipython",
    "version": 3
   },
   "file_extension": ".py",
   "mimetype": "text/x-python",
   "name": "python",
   "nbconvert_exporter": "python",
   "pygments_lexer": "ipython3",
   "version": "3.8.13"
  },
  "orig_nbformat": 4
 },
 "nbformat": 4,
 "nbformat_minor": 2
}
