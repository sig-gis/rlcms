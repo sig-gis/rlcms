{
 "cells": [
  {
   "cell_type": "code",
   "execution_count": 28,
   "metadata": {},
   "outputs": [],
   "source": [
    "import rlcms.composites as composites\n",
    "import ee\n",
    "import geemap\n",
    "\n",
    "ee.Initialize()"
   ]
  },
  {
   "cell_type": "code",
   "execution_count": 32,
   "metadata": {},
   "outputs": [
    {
     "name": "stdout",
     "output_type": "stream",
     "text": [
      "['t0_blue_mean', 't0_green_mean', 't0_red_mean', 't0_nir_mean', 't0_swir1_mean', 't0_swir2_mean', 't0_IBI_mean', 't0_SAVI_mean', 't1_blue_mean', 't1_green_mean', 't1_red_mean', 't1_nir_mean', 't1_swir1_mean', 't1_swir2_mean', 't1_IBI_mean', 't1_SAVI_mean', 'nir_phase', 'nir_amplitude', 'elevation', 'slope', 'aspect', 'eastness', 'northness', 't0_VV_mean', 't0_VH_mean', 't0_angle_mean', 't1_VV_mean', 't1_VH_mean', 't1_angle_mean', 'VH_phase', 'VH_amplitude', 'VV_phase', 'VV_amplitude']\n"
     ]
    }
   ],
   "source": [
    "# some args we'll use in both composites\n",
    "start_date = '2019-01-01'\n",
    "end_date = '2020-12-31'\n",
    "reducer = 'mean' # min, max, ee.Reducer objects\n",
    "composite_mode = 'annual' # 'annual'\n",
    "season=[1,2,3,4,5] # required if composite_mode=='seasonal'\n",
    "\n",
    "binga_polys = ee.FeatureCollection(\"projects/wwf-sig/assets/kaza-lc/reference_data/BingaDummyReferencePolys\")\n",
    "ca_poly = ee.Geometry.Polygon([[-120.70162384826843,36.658181801020476],\n",
    "                               [-120.65218537170593,36.658181801020476],\n",
    "                               [-120.65218537170593,36.68461734040718],\n",
    "                               [-120.70162384826843,36.68461734040718],\n",
    "                               [-120.70162384826843,36.658181801020476]])\n",
    "colombia_polys = ee.Geometry.MultiPolygon([[[-74.27,3.19],\n",
    "                                         [-74.26,3.19],\n",
    "                                         [-74.26,3.20],\n",
    "                                         [-74.27,3.20],\n",
    "                                         [-74.27,3.19]],\n",
    "                                        \n",
    "                                        [[-74.21,3.16],\n",
    "                                         [-74.20,3.16],\n",
    "                                         [-74.20,3.17],\n",
    "                                         [-74.21,3.17],\n",
    "                                         [-74.21,3.16]],\n",
    "                                        \n",
    "                                        [[-74.15,3.14],\n",
    "                                         [-74.14,3.14],\n",
    "                                         [-74.14,3.15],\n",
    "                                         [-74.15,3.15],\n",
    "                                         [-74.15,3.14]]])\n",
    "s1composite = composites.composite(dataset='Sentinel1',\n",
    "                                 region=colombia_polys,\n",
    "                                 start_date=start_date,\n",
    "                                 end_date=end_date,\n",
    "                                 multi_poly=True, # if region is multiple polygons, set this flag\n",
    "                                 composite_mode=composite_mode,\n",
    "                                 season=season,\n",
    "                                 reducer=reducer, \n",
    "                                 harmonicsOptions={'VV':{'start':1,'end':180},\n",
    "                                                   'VH':{'start':1,'end':180}})\n",
    "\n",
    "s2composite = composites.composite(dataset='Sentinel2',\n",
    "                                 region=colombia_polys,\n",
    "                                 start_date=start_date,\n",
    "                                 end_date=end_date,\n",
    "                                 multi_poly=True,\n",
    "                                 indices=['IBI','SAVI'],\n",
    "                                 composite_mode=composite_mode,\n",
    "                                 season=season,\n",
    "                                 reducer=reducer,\n",
    "                                 harmonicsOptions={'nir':{'start':1,'end':180}},\n",
    "                                 addJRC=True,\n",
    "                                 addTopography=True)\n",
    "\n",
    "\n",
    "all_composite = s2composite.addBands(s1composite)\n",
    "print(all_composite.bandNames().getInfo())"
   ]
  },
  {
   "cell_type": "code",
   "execution_count": 33,
   "metadata": {},
   "outputs": [
    {
     "data": {
      "application/vnd.jupyter.widget-view+json": {
       "model_id": "5117ed0154124cfb9ee9378aea084ad6",
       "version_major": 2,
       "version_minor": 0
      },
      "text/plain": [
       "Map(center=[3.1950000040192426, -74.26499999997142], controls=(WidgetControl(options=['position', 'transparent…"
      ]
     },
     "execution_count": 33,
     "metadata": {},
     "output_type": "execute_result"
    }
   ],
   "source": [
    "Map = geemap.Map()\n",
    "\n",
    "s2_params = {'bands':['red_mean','blue_mean','green_mean'],\n",
    "              'min':0,'max':1500,\n",
    "              }\n",
    "s2_params_multi_year = {'bands':['t0_red_mean','t0_blue_mean','t0_green_mean'],\n",
    "              'min':0,'max':1500,\n",
    "              }\n",
    "s1_params = {'bands':'VV_mean','min':-22,'max':2}\n",
    "s1_params_multi_year = {'bands':'t0_VV_mean','min':-22,'max':2}\n",
    "Map.addLayer(binga_polys,{},'binga pols FC')\n",
    "Map.addLayer(ca_poly,{},'single poly geo')\n",
    "Map.addLayer(colombia_polys,{},'multi poly geometry')\n",
    "Map.addLayer(all_composite,s2_params_multi_year,'all_composite rgb')\n",
    "Map.addLayer(all_composite,s1_params_multi_year,'all_composite VV')\n",
    "Map.addLayer(s1composite,s1_params_multi_year,'s1composite VV')\n",
    "\n",
    "Map.centerObject(colombia_polys,12)\n",
    "\n",
    "Map"
   ]
  }
 ],
 "metadata": {
  "kernelspec": {
   "display_name": "gee",
   "language": "python",
   "name": "python3"
  },
  "language_info": {
   "codemirror_mode": {
    "name": "ipython",
    "version": 3
   },
   "file_extension": ".py",
   "mimetype": "text/x-python",
   "name": "python",
   "nbconvert_exporter": "python",
   "pygments_lexer": "ipython3",
   "version": "3.8.13"
  },
  "orig_nbformat": 4
 },
 "nbformat": 4,
 "nbformat_minor": 2
}
