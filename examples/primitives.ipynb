{
 "cells": [
  {
   "cell_type": "code",
   "execution_count": null,
   "metadata": {},
   "outputs": [],
   "source": [
    "import ee\n",
    "ee.Initialize(project='sig-ee-cloud')\n",
    "from rlcms.primitives import Primitives\n",
    "%load_ext autoreload\n",
    "%autoreload 2"
   ]
  },
  {
   "cell_type": "code",
   "execution_count": null,
   "metadata": {},
   "outputs": [],
   "source": [
    "inputs = ee.Image(\"projects/sig-ee-cloud/assets/rlcmsTests/composite_S2_sesheke_2021_22\")\n",
    "training = ee.FeatureCollection(\"projects/sig-ee-cloud/assets/rlcmsTests/sesheke_TT_from_sesheke_sample_pts_200ea_TT50_train_pts\")\n",
    "\n",
    "P = Primitives(inputs,training,'LANDCOVER')"
   ]
  },
  {
   "cell_type": "code",
   "execution_count": null,
   "metadata": {},
   "outputs": [],
   "source": [
    "primitives = P.collection\n",
    "training_pts = P.training_data\n",
    "region = P.region\n",
    "print('Training Pts breakdown:',training_pts.aggregate_histogram('LANDCOVER').getInfo())\n",
    "print('region',region)"
   ]
  },
  {
   "cell_type": "code",
   "execution_count": null,
   "metadata": {},
   "outputs": [],
   "source": [
    "# Lets look at one Primitive probability image\n",
    "P1 = ee.Image(primitives.first())\n",
    "print('Primitive1 band name:',P1.bandNames().getInfo())\n",
    "print('Primitive1 Model Schema:',P1.get('schema').getInfo())\n",
    "print('Primitive1 Model Info:',P1.get('model').getInfo())\n",
    "print('Primitive1 All Properties:',P1.propertyNames().getInfo())"
   ]
  },
  {
   "cell_type": "code",
   "execution_count": null,
   "metadata": {},
   "outputs": [],
   "source": [
    "import geemap\n",
    "Map = geemap.Map()\n",
    "\n",
    "Map.addLayer(ee.ImageCollection(primitives),{},'Primitives')\n",
    "Map.addLayer(P1,{},'P1 Bare')\n",
    "Map.centerObject(primitives,14)\n",
    "\n",
    "Map"
   ]
  },
  {
   "cell_type": "code",
   "execution_count": null,
   "metadata": {},
   "outputs": [],
   "source": [
    "# Export to Asset\n",
    "P.export_to_asset(collection_assetId='projects/sig-ee-cloud/assets/rlcmsTests/primsClassBasedTestExportUseGeeMapsExport3',scale=10)\n",
    "\n",
    "# # Export to Drive\n",
    "P.export_to_drive(description='exportPrimsToDrive',folder='rlcmsTests',fileNamePrefix='TestPrimsClassToDriveMethod2',scale=10)"
   ]
  },
  {
   "cell_type": "code",
   "execution_count": null,
   "metadata": {},
   "outputs": [],
   "source": [
    "# export Primitive model metrics\n",
    "P.export_metrics(r'C:\\Users\\kyle\\Downloads\\metrics')"
   ]
  },
  {
   "cell_type": "code",
   "execution_count": null,
   "metadata": {},
   "outputs": [],
   "source": [
    "# Assemble into LC map using per-pixel max probability\n",
    "assemblage = P.assemble_max_probability()\n",
    "print(assemblage.bandNames().getInfo())\n",
    "import geemap\n",
    "Map = geemap.Map()\n",
    "\n",
    "Map.addLayer(assemblage,{'min':1,'max':8},'Assemblage LC')\n",
    "Map.centerObject(assemblage,13)\n",
    "Map"
   ]
  }
 ],
 "metadata": {
  "kernelspec": {
   "display_name": "gee",
   "language": "python",
   "name": "python3"
  },
  "language_info": {
   "codemirror_mode": {
    "name": "ipython",
    "version": 3
   },
   "file_extension": ".py",
   "mimetype": "text/x-python",
   "name": "python",
   "nbconvert_exporter": "python",
   "pygments_lexer": "ipython3",
   "version": "3.8.13"
  },
  "orig_nbformat": 4
 },
 "nbformat": 4,
 "nbformat_minor": 2
}
