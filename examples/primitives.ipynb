{
 "cells": [
  {
   "cell_type": "code",
   "execution_count": 1,
   "metadata": {},
   "outputs": [],
   "source": [
    "import ee\n",
    "ee.Initialize(project='sig-ee-cloud')\n",
    "from rlcms.primitives import Primitives\n",
    "%load_ext autoreload\n",
    "%autoreload 2"
   ]
  },
  {
   "cell_type": "code",
   "execution_count": 3,
   "metadata": {},
   "outputs": [],
   "source": [
    "inputs = ee.Image(\"projects/sig-ee-cloud/assets/rlcmsTests/composite_S2_sesheke_2021_22\")\n",
    "training = ee.FeatureCollection(\"projects/sig-ee-cloud/assets/rlcmsTests/sesheke_TT_from_sesheke_sample_pts_200ea_TT50_train_pts\")\n",
    "\n",
    "P = Primitives(inputs,training,'LANDCOVER')"
   ]
  },
  {
   "cell_type": "code",
   "execution_count": 5,
   "metadata": {},
   "outputs": [
    {
     "name": "stdout",
     "output_type": "stream",
     "text": [
      "region {'type': 'Polygon', 'coordinates': [[[24.280604926396435, -17.467594676783584], [24.280604200880884, -17.467605968339736], [24.280604200880884, -17.49204008950923], [24.28064256251437, -17.49208160890117], [24.28067512002093, -17.492127331224978], [24.280690627913145, -17.492130125308012], [24.315283690069, -17.492130091795843], [24.315327217417405, -17.492093557213263], [24.315375097495423, -17.4920624360642], [24.31537809000012, -17.492047652564036], [24.31537799931816, -17.467605990443424], [24.315339731529235, -17.467564475481808], [24.315307086019324, -17.467518781870304], [24.3152954787263, -17.467516663913848], [24.315283690068995, -17.467516000431118], [24.280698608582604, -17.467515978741453], [24.280655077656462, -17.467552500664254], [24.28060719363255, -17.467583607065148], [24.280604926396435, -17.467594676783584]]]}\n"
     ]
    }
   ],
   "source": [
    "primitives = P.collection\n",
    "training_pts = P.training_data\n",
    "region = P.region\n",
    "print('Training Pts breakdown:',training_pts.aggregate_histogram('LANDCOVER').getInfo())\n",
    "print('region',region)"
   ]
  },
  {
   "cell_type": "code",
   "execution_count": 15,
   "metadata": {},
   "outputs": [
    {
     "name": "stdout",
     "output_type": "stream",
     "text": [
      "Primitive1 band name ['Probability']\n",
      "Primitive1 Model Schema None\n",
      "Primitive1 Model Info None\n",
      "Primitive1 All Properties ['Primitive', 'oobError', 'system:footprint', 'system:version', 'system:id', 'system:asset_size', 'system:index', 'system:bands', 'system:band_names']\n"
     ]
    }
   ],
   "source": [
    "# Lets look at one Primitive probability image\n",
    "P1 = ee.Image(primitives.first())\n",
    "print('Primitive1 band name',P1.bandNames().getInfo())\n",
    "print('Primitive1 Model Schema',P1.get('schema').getInfo())\n",
    "print('Primitive1 Model Info',P1.get('model').getInfo())\n",
    "print('Primitive1 All Properties',P1.propertyNames().getInfo())"
   ]
  },
  {
   "cell_type": "code",
   "execution_count": 8,
   "metadata": {},
   "outputs": [
    {
     "data": {
      "application/vnd.jupyter.widget-view+json": {
       "model_id": "5380b6c44dae4c878ddbac416e62bd62",
       "version_major": 2,
       "version_minor": 0
      },
      "text/plain": [
       "Map(center=[-17.47982352474797, 24.297991116269355], controls=(WidgetControl(options=['position', 'transparent…"
      ]
     },
     "execution_count": 8,
     "metadata": {},
     "output_type": "execute_result"
    }
   ],
   "source": [
    "import geemap\n",
    "Map = geemap.Map()\n",
    "\n",
    "Map.addLayer(ee.ImageCollection(primitives),{},'Primitives')\n",
    "Map.addLayer(P1,{},'P1 Bare')\n",
    "Map.centerObject(primitives,14)\n",
    "\n",
    "Map"
   ]
  },
  {
   "cell_type": "code",
   "execution_count": 9,
   "metadata": {},
   "outputs": [
    {
     "name": "stdout",
     "output_type": "stream",
     "text": [
      "Creating empty Primitives ImageCollection: projects/sig-ee-cloud/assets/rlcmsTests/primsClassBasedTestExportUseGeeMapsExport3.\n",
      "\n",
      "Export Started (Asset): projects/sig-ee-cloud/assets/rlcmsTests/primsClassBasedTestExportUseGeeMapsExport3/Primitive1\n",
      "Export Started (Asset): projects/sig-ee-cloud/assets/rlcmsTests/primsClassBasedTestExportUseGeeMapsExport3/Primitive2\n",
      "Export Started (Asset): projects/sig-ee-cloud/assets/rlcmsTests/primsClassBasedTestExportUseGeeMapsExport3/Primitive3\n",
      "Export Started (Asset): projects/sig-ee-cloud/assets/rlcmsTests/primsClassBasedTestExportUseGeeMapsExport3/Primitive4\n",
      "Export Started (Asset): projects/sig-ee-cloud/assets/rlcmsTests/primsClassBasedTestExportUseGeeMapsExport3/Primitive5\n",
      "Export Started (Asset): projects/sig-ee-cloud/assets/rlcmsTests/primsClassBasedTestExportUseGeeMapsExport3/Primitive8\n",
      "Export Started (Asset): projects/sig-ee-cloud/assets/rlcmsTests/primsClassBasedTestExportUseGeeMapsExport3/Primitive7\n",
      "Export Started (Asset): projects/sig-ee-cloud/assets/rlcmsTests/primsClassBasedTestExportUseGeeMapsExport3/Primitive6\n",
      "Export Started (Drive): TestPrimsClassToDriveMethod2\n"
     ]
    }
   ],
   "source": [
    "# Export to Asset\n",
    "P.export_to_asset(collection_assetId='projects/sig-ee-cloud/assets/rlcmsTests/primsClassBasedTestExportUseGeeMapsExport3',scale=10)\n",
    "\n",
    "# # Export to Drive\n",
    "P.export_to_drive(description='exportPrimsToDrive',folder='rlcmsTests',fileNamePrefix='TestPrimsClassToDriveMethod2',scale=10)"
   ]
  },
  {
   "cell_type": "code",
   "execution_count": 13,
   "metadata": {},
   "outputs": [],
   "source": [
    "# export Primitive model metrics\n",
    "P.export_metrics(r'C:\\Users\\kyle\\Downloads\\metrics')"
   ]
  },
  {
   "cell_type": "code",
   "execution_count": 14,
   "metadata": {},
   "outputs": [
    {
     "name": "stdout",
     "output_type": "stream",
     "text": [
      "['LANDCOVER']\n"
     ]
    },
    {
     "data": {
      "application/vnd.jupyter.widget-view+json": {
       "model_id": "14598dc1ee474ef38f74726c5489954b",
       "version_major": 2,
       "version_minor": 0
      },
      "text/plain": [
       "Map(center=[-17.47982301728084, 24.297991130974836], controls=(WidgetControl(options=['position', 'transparent…"
      ]
     },
     "execution_count": 14,
     "metadata": {},
     "output_type": "execute_result"
    }
   ],
   "source": [
    "# Assemble into LC map using per-pixel max probability\n",
    "assemblage = P.assemble_max_probability()\n",
    "print(assemblage.bandNames().getInfo())\n",
    "import geemap\n",
    "Map = geemap.Map()\n",
    "\n",
    "Map.addLayer(assemblage,{'min':1,'max':8},'Assemblage LC')\n",
    "Map.centerObject(assemblage,13)\n",
    "Map"
   ]
  }
 ],
 "metadata": {
  "kernelspec": {
   "display_name": "gee",
   "language": "python",
   "name": "python3"
  },
  "language_info": {
   "codemirror_mode": {
    "name": "ipython",
    "version": 3
   },
   "file_extension": ".py",
   "mimetype": "text/x-python",
   "name": "python",
   "nbconvert_exporter": "python",
   "pygments_lexer": "ipython3",
   "version": "3.8.13"
  },
  "orig_nbformat": 4
 },
 "nbformat": 4,
 "nbformat_minor": 2
}
