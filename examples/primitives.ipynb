{
 "cells": [
  {
   "cell_type": "code",
   "execution_count": 1,
   "metadata": {},
   "outputs": [],
   "source": [
    "import ee\n",
    "ee.Initialize(project='sig-ee-cloud')\n",
    "from rlcms.primitives_classbased import Primitives\n"
   ]
  },
  {
   "cell_type": "code",
   "execution_count": 2,
   "metadata": {},
   "outputs": [],
   "source": [
    "inputs = ee.Image(\"projects/sig-ee-cloud/assets/rlcmsTests/composite_S2_sesheke_2021_22\")\n",
    "training = ee.FeatureCollection(\"projects/sig-ee-cloud/assets/rlcmsTests/sesheke_TT_from_sesheke_sample_pts_200ea_TT50_train_pts\")\n",
    "\n",
    "P = Primitives(inputs,training,'LANDCOVER')"
   ]
  },
  {
   "cell_type": "code",
   "execution_count": 3,
   "metadata": {},
   "outputs": [],
   "source": [
    "# primitives = P.collection\n",
    "# training_pts = P.training_data\n",
    "# region = P.region\n",
    "# print(collection.size().getInfo())\n",
    "# print(training_pts.aggregate_histogram('LANDCOVER').getInfo())\n",
    "# print(region)\n",
    "\n",
    "# P1 = ee.Image(primitives.first())\n",
    "# print(P1.propertyNames().getInfo())\n",
    "# print(P1.get('schema').getInfo())\n",
    "# print(P1.get('model').getInfo())\n",
    "# print(P1.bandNames().getInfo())"
   ]
  },
  {
   "cell_type": "code",
   "execution_count": 4,
   "metadata": {},
   "outputs": [],
   "source": [
    "# import geemap\n",
    "\n",
    "# Map = geemap.Map()\n",
    "\n",
    "# Map.addLayer(ee.ImageCollection(primitives),{},'Primitives')\n",
    "# Map.addLayer(P1,{},'P1 Bare')\n",
    "# Map.centerObject(primitives,12)\n",
    "\n",
    "# Map"
   ]
  },
  {
   "cell_type": "code",
   "execution_count": 5,
   "metadata": {},
   "outputs": [],
   "source": [
    "# Export to Asset\n",
    "# P.export_to_asset(collection_assetId='projects/sig-ee-cloud/assets/rlcmsTests/primsClassBasedTestExportUseGeeMapsExport2',scale=10)\n",
    "\n",
    "# # Export to Drive\n",
    "# P.export_to_drive(description='exportPrimsToDrive',folder='rlcmsTests',fileNamePrefix='TestPrimsClassToDriveMethod2',scale=10)"
   ]
  },
  {
   "cell_type": "code",
   "execution_count": 6,
   "metadata": {},
   "outputs": [],
   "source": [
    "# extract model metrics\n",
    "\n",
    "# df = P.metrics_to_df()\n",
    "# df.head()\n",
    "# df.to_csv(r'C:\\Users\\kyle\\Downloads\\rlcmsMetrics.csv')"
   ]
  },
  {
   "cell_type": "code",
   "execution_count": 7,
   "metadata": {},
   "outputs": [],
   "source": [
    "# P.metrics_to_df_clean()\n",
    "\n"
   ]
  },
  {
   "cell_type": "code",
   "execution_count": 10,
   "metadata": {},
   "outputs": [
    {
     "name": "stdout",
     "output_type": "stream",
     "text": [
      "['LANDCOVER']\n"
     ]
    },
    {
     "data": {
      "application/vnd.jupyter.widget-view+json": {
       "model_id": "c282ced84088457f9b834461cfcaae04",
       "version_major": 2,
       "version_minor": 0
      },
      "text/plain": [
       "Map(center=[-17.47982301869371, 24.297991130984897], controls=(WidgetControl(options=['position', 'transparent…"
      ]
     },
     "execution_count": 10,
     "metadata": {},
     "output_type": "execute_result"
    }
   ],
   "source": [
    "assemblage = P.assemble_max_probability()\n",
    "print(assemblage.bandNames().getInfo())\n",
    "import geemap\n",
    "Map = geemap.Map()\n",
    "\n",
    "Map.addLayer(assemblage,{'min':1,'max':8},'Assemblage LC')\n",
    "Map.centerObject(assemblage,13)\n",
    "Map"
   ]
  }
 ],
 "metadata": {
  "kernelspec": {
   "display_name": "gee",
   "language": "python",
   "name": "python3"
  },
  "language_info": {
   "codemirror_mode": {
    "name": "ipython",
    "version": 3
   },
   "file_extension": ".py",
   "mimetype": "text/x-python",
   "name": "python",
   "nbconvert_exporter": "python",
   "pygments_lexer": "ipython3",
   "version": "3.8.13"
  },
  "orig_nbformat": 4
 },
 "nbformat": 4,
 "nbformat_minor": 2
}
