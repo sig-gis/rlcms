{
 "cells": [
  {
   "cell_type": "code",
   "execution_count": 2,
   "metadata": {},
   "outputs": [
    {
     "ename": "ModuleNotFoundError",
     "evalue": "No module named 'rlcms'",
     "output_type": "error",
     "traceback": [
      "\u001b[1;31m---------------------------------------------------------------------------\u001b[0m",
      "\u001b[1;31mModuleNotFoundError\u001b[0m                       Traceback (most recent call last)",
      "\u001b[1;32mc:\\rlcms\\composite_workflow.ipynb Cell 1\u001b[0m in \u001b[0;36m<cell line: 1>\u001b[1;34m()\u001b[0m\n\u001b[1;32m----> <a href='vscode-notebook-cell:/c%3A/rlcms/composite_workflow.ipynb#W0sZmlsZQ%3D%3D?line=0'>1</a>\u001b[0m \u001b[39mimport\u001b[39;00m \u001b[39mrlcms\u001b[39;00m\u001b[39m.\u001b[39;00m\u001b[39mcomposites\u001b[39;00m \u001b[39mas\u001b[39;00m \u001b[39mcomposites\u001b[39;00m\n\u001b[0;32m      <a href='vscode-notebook-cell:/c%3A/rlcms/composite_workflow.ipynb#W0sZmlsZQ%3D%3D?line=1'>2</a>\u001b[0m \u001b[39mimport\u001b[39;00m \u001b[39mee\u001b[39;00m\n\u001b[0;32m      <a href='vscode-notebook-cell:/c%3A/rlcms/composite_workflow.ipynb#W0sZmlsZQ%3D%3D?line=2'>3</a>\u001b[0m \u001b[39mimport\u001b[39;00m \u001b[39mgeemap\u001b[39;00m\n",
      "\u001b[1;31mModuleNotFoundError\u001b[0m: No module named 'rlcms'"
     ]
    }
   ],
   "source": [
    "from rlcms import composites\n",
    "import ee\n",
    "import geemap\n",
    "\n",
    "ee.Initialize()"
   ]
  },
  {
   "cell_type": "code",
   "execution_count": 2,
   "metadata": {},
   "outputs": [
    {
     "name": "stdout",
     "output_type": "stream",
     "text": [
      "{'dataset': 'Sentinel1', 'region': [[[24.280821946182392, -17.49195652431585], [24.31515256390456, -17.49195647837019], [24.31515256390456, -17.467721268955287], [24.280821946182392, -17.467721310351774], [24.280821946182392, -17.49195652431585]]], 'start_date': '2018-01-01', 'end_date': '2018-12-31', 'composite_mode': 'annual', 'reducer': 'mean', 'bands': ['VV_mean', 'VH_mean', 'angle_mean'], 'composite': <ee.image.Image object at 0x000002363CBE0AC0>}\n",
      "['VV_mean', 'VH_mean', 'angle_mean']\n",
      "['blue_mean', 'green_mean', 'red_mean', 'nir_mean', 'swir1_mean', 'swir2_mean', 'IBI_mean', 'SAVI_mean']\n",
      "['Sentinel1_VV_mean', 'Sentinel1_VH_mean', 'Sentinel1_angle_mean', 'Sentinel2_blue_mean', 'Sentinel2_green_mean', 'Sentinel2_red_mean', 'Sentinel2_nir_mean', 'Sentinel2_swir1_mean', 'Sentinel2_swir2_mean', 'Sentinel2_IBI_mean', 'Sentinel2_SAVI_mean']\n"
     ]
    }
   ],
   "source": [
    "# some args we'll use in both composites\n",
    "start_date = '2018-01-01'\n",
    "end_date = '2018-12-31'\n",
    "reducer = 'mean' # min, max, ee.Reducer objects\n",
    "composite_mode = 'annual' # 'annual'\n",
    "\n",
    "sesheke = ee.FeatureCollection(\"projects/wwf-sig/assets/kaza-lc/aoi/testSeshekeWater\")\n",
    "# binga_polys = ee.FeatureCollection(\"projects/wwf-sig/assets/kaza-lc/reference_data/BingaDummyReferencePolys\")\n",
    "ca_poly = ee.Geometry.Polygon([[-120.70162384826843,36.658181801020476],\n",
    "                               [-120.65218537170593,36.658181801020476],\n",
    "                               [-120.65218537170593,36.68461734040718],\n",
    "                               [-120.70162384826843,36.68461734040718],\n",
    "                               [-120.70162384826843,36.658181801020476]])\n",
    "\n",
    "s1composite = composites.composite(dataset='Sentinel1',\n",
    "                                  region=sesheke,\n",
    "                                  start_date=start_date,\n",
    "                                  end_date=end_date,\n",
    "                                 composite_mode=composite_mode,\n",
    "                                 reducer=reducer)\n",
    "s2composite = composites.composite(dataset='Sentinel2',\n",
    "                                 region=sesheke,\n",
    "                                 start_date=start_date,\n",
    "                                 end_date=end_date,\n",
    "                                 indices=['IBI','SAVI'],\n",
    "                                 composite_mode=composite_mode,\n",
    "                                 reducer=reducer)\n",
    "\n",
    "print(s1composite.__dict__)\n",
    "print(s1composite.bands)\n",
    "print(s2composite.bands)\n",
    "\n",
    "all_composite = s1composite.stack(s2composite)\n",
    "\n",
    "print(all_composite.bandNames().getInfo())"
   ]
  },
  {
   "cell_type": "code",
   "execution_count": 4,
   "metadata": {},
   "outputs": [
    {
     "data": {
      "application/vnd.jupyter.widget-view+json": {
       "model_id": "786666fcbee14b9faaffc11193ef3141",
       "version_major": 2,
       "version_minor": 0
      },
      "text/plain": [
       "Map(center=[36.671401368184334, -120.67690460998617], controls=(WidgetControl(options=['position', 'transparen…"
      ]
     },
     "execution_count": 4,
     "metadata": {},
     "output_type": "execute_result"
    }
   ],
   "source": [
    "Map = geemap.Map()\n",
    "\n",
    "s2_params = {'bands':['red_mean','blue_mean','green_mean'],\n",
    "              'min':0,'max':1500,\n",
    "              }\n",
    "s2_params_multi_year = {'bands':['t0_red_mean','t0_blue_mean','t0_green_mean'],\n",
    "              'min':0,'max':1500,\n",
    "              }\n",
    "s1_params = {'bands':'VV_mean','min':-22,'max':2}\n",
    "s1_params_multi_year = {'bands':'t0_VV_mean','min':-22,'max':2}\n",
    "# Map.addLayer(binga_polys,{},'binga pols FC')\n",
    "Map.addLayer(ca_poly,{},'single poly geo')\n",
    "# Map.addLayer(colombia_polys,{},'multi poly geometry')\n",
    "Map.addLayer(all_composite,s2_params_multi_year,'all_composite rgb')\n",
    "Map.addLayer(all_composite,s1_params_multi_year,'all_composite VV')\n",
    "Map.addLayer(s1composite,s1_params_multi_year,'s1composite VV')\n",
    "\n",
    "Map.centerObject(ca_poly,12)\n",
    "# Map.centerObject(colombia_polys,12)\n",
    "# Map.centerObject(binga_polys,12)\n",
    "\n",
    "\n",
    "Map"
   ]
  }
 ],
 "metadata": {
  "kernelspec": {
   "display_name": "gee",
   "language": "python",
   "name": "python3"
  },
  "language_info": {
   "codemirror_mode": {
    "name": "ipython",
    "version": 3
   },
   "file_extension": ".py",
   "mimetype": "text/x-python",
   "name": "python",
   "nbconvert_exporter": "python",
   "pygments_lexer": "ipython3",
   "version": "3.8.13"
  },
  "orig_nbformat": 4
 },
 "nbformat": 4,
 "nbformat_minor": 2
}
